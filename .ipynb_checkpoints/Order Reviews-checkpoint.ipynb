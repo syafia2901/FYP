{
 "cells": [
  {
   "cell_type": "code",
   "execution_count": 1,
   "id": "19ba6668",
   "metadata": {},
   "outputs": [],
   "source": [
    "import pandas as pd\n",
    "import csv"
   ]
  },
  {
   "cell_type": "code",
   "execution_count": 2,
   "id": "9da51faf",
   "metadata": {},
   "outputs": [],
   "source": [
    "df = pd.read_csv('C:/Users/fifi/Desktop/UKM_SEM_5/TP4172_USULAN_PROJEK/fyp_dataset/olist_order_reviews_dataset.csv')"
   ]
  },
  {
   "cell_type": "code",
   "execution_count": 3,
   "id": "594c10d8",
   "metadata": {},
   "outputs": [
    {
     "data": {
      "text/html": [
       "<div>\n",
       "<style scoped>\n",
       "    .dataframe tbody tr th:only-of-type {\n",
       "        vertical-align: middle;\n",
       "    }\n",
       "\n",
       "    .dataframe tbody tr th {\n",
       "        vertical-align: top;\n",
       "    }\n",
       "\n",
       "    .dataframe thead th {\n",
       "        text-align: right;\n",
       "    }\n",
       "</style>\n",
       "<table border=\"1\" class=\"dataframe\">\n",
       "  <thead>\n",
       "    <tr style=\"text-align: right;\">\n",
       "      <th></th>\n",
       "      <th>review_id</th>\n",
       "      <th>order_id</th>\n",
       "      <th>review_score</th>\n",
       "      <th>review_comment_title</th>\n",
       "      <th>review_comment_message</th>\n",
       "      <th>review_creation_date</th>\n",
       "      <th>review_answer_timestamp</th>\n",
       "    </tr>\n",
       "  </thead>\n",
       "  <tbody>\n",
       "    <tr>\n",
       "      <th>0</th>\n",
       "      <td>7bc2406110b926393aa56f80a40eba40</td>\n",
       "      <td>73fc7af87114b39712e6da79b0a377eb</td>\n",
       "      <td>4</td>\n",
       "      <td>NaN</td>\n",
       "      <td>NaN</td>\n",
       "      <td>18/1/2018 0:00</td>\n",
       "      <td>18/1/2018 21:46</td>\n",
       "    </tr>\n",
       "    <tr>\n",
       "      <th>1</th>\n",
       "      <td>80e641a11e56f04c1ad469d5645fdfde</td>\n",
       "      <td>a548910a1c6147796b98fdf73dbeba33</td>\n",
       "      <td>5</td>\n",
       "      <td>NaN</td>\n",
       "      <td>NaN</td>\n",
       "      <td>10/3/2018 0:00</td>\n",
       "      <td>11/3/2018 3:05</td>\n",
       "    </tr>\n",
       "    <tr>\n",
       "      <th>2</th>\n",
       "      <td>228ce5500dc1d8e020d8d1322874b6f0</td>\n",
       "      <td>f9e4b658b201a9f2ecdecbb34bed034b</td>\n",
       "      <td>5</td>\n",
       "      <td>NaN</td>\n",
       "      <td>NaN</td>\n",
       "      <td>17/2/2018 0:00</td>\n",
       "      <td>18/2/2018 14:36</td>\n",
       "    </tr>\n",
       "    <tr>\n",
       "      <th>3</th>\n",
       "      <td>e64fb393e7b32834bb789ff8bb30750e</td>\n",
       "      <td>658677c97b385a9be170737859d3511b</td>\n",
       "      <td>5</td>\n",
       "      <td>NaN</td>\n",
       "      <td>Recebi bem antes do prazo estipulado.</td>\n",
       "      <td>21/4/2017 0:00</td>\n",
       "      <td>21/4/2017 22:02</td>\n",
       "    </tr>\n",
       "    <tr>\n",
       "      <th>4</th>\n",
       "      <td>f7c4243c7fe1938f181bec41a392bdeb</td>\n",
       "      <td>8e6bfb81e283fa7e4f11123a3fb894f1</td>\n",
       "      <td>5</td>\n",
       "      <td>NaN</td>\n",
       "      <td>Parabéns lojas lannister adorei comprar pela I...</td>\n",
       "      <td>1/3/2018 0:00</td>\n",
       "      <td>2/3/2018 10:26</td>\n",
       "    </tr>\n",
       "    <tr>\n",
       "      <th>...</th>\n",
       "      <td>...</td>\n",
       "      <td>...</td>\n",
       "      <td>...</td>\n",
       "      <td>...</td>\n",
       "      <td>...</td>\n",
       "      <td>...</td>\n",
       "      <td>...</td>\n",
       "    </tr>\n",
       "    <tr>\n",
       "      <th>99219</th>\n",
       "      <td>574ed12dd733e5fa530cfd4bbf39d7c9</td>\n",
       "      <td>2a8c23fee101d4d5662fa670396eb8da</td>\n",
       "      <td>5</td>\n",
       "      <td>NaN</td>\n",
       "      <td>NaN</td>\n",
       "      <td>7/7/2018 0:00</td>\n",
       "      <td>14/7/2018 17:18</td>\n",
       "    </tr>\n",
       "    <tr>\n",
       "      <th>99220</th>\n",
       "      <td>f3897127253a9592a73be9bdfdf4ed7a</td>\n",
       "      <td>22ec9f0669f784db00fa86d035cf8602</td>\n",
       "      <td>5</td>\n",
       "      <td>NaN</td>\n",
       "      <td>NaN</td>\n",
       "      <td>9/12/2017 0:00</td>\n",
       "      <td>11/12/2017 20:06</td>\n",
       "    </tr>\n",
       "    <tr>\n",
       "      <th>99221</th>\n",
       "      <td>b3de70c89b1510c4cd3d0649fd302472</td>\n",
       "      <td>55d4004744368f5571d1f590031933e4</td>\n",
       "      <td>5</td>\n",
       "      <td>NaN</td>\n",
       "      <td>Excelente mochila, entrega super rápida. Super...</td>\n",
       "      <td>22/3/2018 0:00</td>\n",
       "      <td>23/3/2018 9:10</td>\n",
       "    </tr>\n",
       "    <tr>\n",
       "      <th>99222</th>\n",
       "      <td>1adeb9d84d72fe4e337617733eb85149</td>\n",
       "      <td>7725825d039fc1f0ceb7635e3f7d9206</td>\n",
       "      <td>4</td>\n",
       "      <td>NaN</td>\n",
       "      <td>NaN</td>\n",
       "      <td>1/7/2018 0:00</td>\n",
       "      <td>2/7/2018 12:59</td>\n",
       "    </tr>\n",
       "    <tr>\n",
       "      <th>99223</th>\n",
       "      <td>efe49f1d6f951dd88b51e6ccd4cc548f</td>\n",
       "      <td>90531360ecb1eec2a1fbb265a0db0508</td>\n",
       "      <td>1</td>\n",
       "      <td>NaN</td>\n",
       "      <td>meu produto chegou e ja tenho que devolver, po...</td>\n",
       "      <td>3/7/2017 0:00</td>\n",
       "      <td>3/7/2017 21:01</td>\n",
       "    </tr>\n",
       "  </tbody>\n",
       "</table>\n",
       "<p>99224 rows × 7 columns</p>\n",
       "</div>"
      ],
      "text/plain": [
       "                              review_id                          order_id  \\\n",
       "0      7bc2406110b926393aa56f80a40eba40  73fc7af87114b39712e6da79b0a377eb   \n",
       "1      80e641a11e56f04c1ad469d5645fdfde  a548910a1c6147796b98fdf73dbeba33   \n",
       "2      228ce5500dc1d8e020d8d1322874b6f0  f9e4b658b201a9f2ecdecbb34bed034b   \n",
       "3      e64fb393e7b32834bb789ff8bb30750e  658677c97b385a9be170737859d3511b   \n",
       "4      f7c4243c7fe1938f181bec41a392bdeb  8e6bfb81e283fa7e4f11123a3fb894f1   \n",
       "...                                 ...                               ...   \n",
       "99219  574ed12dd733e5fa530cfd4bbf39d7c9  2a8c23fee101d4d5662fa670396eb8da   \n",
       "99220  f3897127253a9592a73be9bdfdf4ed7a  22ec9f0669f784db00fa86d035cf8602   \n",
       "99221  b3de70c89b1510c4cd3d0649fd302472  55d4004744368f5571d1f590031933e4   \n",
       "99222  1adeb9d84d72fe4e337617733eb85149  7725825d039fc1f0ceb7635e3f7d9206   \n",
       "99223  efe49f1d6f951dd88b51e6ccd4cc548f  90531360ecb1eec2a1fbb265a0db0508   \n",
       "\n",
       "       review_score review_comment_title  \\\n",
       "0                 4                  NaN   \n",
       "1                 5                  NaN   \n",
       "2                 5                  NaN   \n",
       "3                 5                  NaN   \n",
       "4                 5                  NaN   \n",
       "...             ...                  ...   \n",
       "99219             5                  NaN   \n",
       "99220             5                  NaN   \n",
       "99221             5                  NaN   \n",
       "99222             4                  NaN   \n",
       "99223             1                  NaN   \n",
       "\n",
       "                                  review_comment_message review_creation_date  \\\n",
       "0                                                    NaN       18/1/2018 0:00   \n",
       "1                                                    NaN       10/3/2018 0:00   \n",
       "2                                                    NaN       17/2/2018 0:00   \n",
       "3                  Recebi bem antes do prazo estipulado.       21/4/2017 0:00   \n",
       "4      Parabéns lojas lannister adorei comprar pela I...        1/3/2018 0:00   \n",
       "...                                                  ...                  ...   \n",
       "99219                                                NaN        7/7/2018 0:00   \n",
       "99220                                                NaN       9/12/2017 0:00   \n",
       "99221  Excelente mochila, entrega super rápida. Super...       22/3/2018 0:00   \n",
       "99222                                                NaN        1/7/2018 0:00   \n",
       "99223  meu produto chegou e ja tenho que devolver, po...        3/7/2017 0:00   \n",
       "\n",
       "      review_answer_timestamp  \n",
       "0             18/1/2018 21:46  \n",
       "1              11/3/2018 3:05  \n",
       "2             18/2/2018 14:36  \n",
       "3             21/4/2017 22:02  \n",
       "4              2/3/2018 10:26  \n",
       "...                       ...  \n",
       "99219         14/7/2018 17:18  \n",
       "99220        11/12/2017 20:06  \n",
       "99221          23/3/2018 9:10  \n",
       "99222          2/7/2018 12:59  \n",
       "99223          3/7/2017 21:01  \n",
       "\n",
       "[99224 rows x 7 columns]"
      ]
     },
     "execution_count": 3,
     "metadata": {},
     "output_type": "execute_result"
    }
   ],
   "source": [
    "df"
   ]
  },
  {
   "cell_type": "code",
   "execution_count": 4,
   "id": "b03cb1a9",
   "metadata": {},
   "outputs": [
    {
     "data": {
      "text/plain": [
       "review_id                      0\n",
       "order_id                       0\n",
       "review_score                   0\n",
       "review_comment_title       87656\n",
       "review_comment_message     58247\n",
       "review_creation_date           0\n",
       "review_answer_timestamp        0\n",
       "dtype: int64"
      ]
     },
     "execution_count": 4,
     "metadata": {},
     "output_type": "execute_result"
    }
   ],
   "source": [
    "df.isnull().sum()"
   ]
  },
  {
   "cell_type": "code",
   "execution_count": 5,
   "id": "c791740c",
   "metadata": {},
   "outputs": [
    {
     "name": "stdout",
     "output_type": "stream",
     "text": [
      "<class 'pandas.core.frame.DataFrame'>\n",
      "RangeIndex: 99224 entries, 0 to 99223\n",
      "Data columns (total 7 columns):\n",
      " #   Column                   Non-Null Count  Dtype \n",
      "---  ------                   --------------  ----- \n",
      " 0   review_id                99224 non-null  object\n",
      " 1   order_id                 99224 non-null  object\n",
      " 2   review_score             99224 non-null  int64 \n",
      " 3   review_comment_title     11568 non-null  object\n",
      " 4   review_comment_message   40977 non-null  object\n",
      " 5   review_creation_date     99224 non-null  object\n",
      " 6   review_answer_timestamp  99224 non-null  object\n",
      "dtypes: int64(1), object(6)\n",
      "memory usage: 5.3+ MB\n"
     ]
    }
   ],
   "source": [
    "df.info()"
   ]
  },
  {
   "cell_type": "code",
   "execution_count": 6,
   "id": "a0c6e0d6",
   "metadata": {},
   "outputs": [
    {
     "data": {
      "text/html": [
       "<div>\n",
       "<style scoped>\n",
       "    .dataframe tbody tr th:only-of-type {\n",
       "        vertical-align: middle;\n",
       "    }\n",
       "\n",
       "    .dataframe tbody tr th {\n",
       "        vertical-align: top;\n",
       "    }\n",
       "\n",
       "    .dataframe thead th {\n",
       "        text-align: right;\n",
       "    }\n",
       "</style>\n",
       "<table border=\"1\" class=\"dataframe\">\n",
       "  <thead>\n",
       "    <tr style=\"text-align: right;\">\n",
       "      <th></th>\n",
       "      <th>review_score</th>\n",
       "    </tr>\n",
       "  </thead>\n",
       "  <tbody>\n",
       "    <tr>\n",
       "      <th>count</th>\n",
       "      <td>99224.000000</td>\n",
       "    </tr>\n",
       "    <tr>\n",
       "      <th>mean</th>\n",
       "      <td>4.086421</td>\n",
       "    </tr>\n",
       "    <tr>\n",
       "      <th>std</th>\n",
       "      <td>1.347579</td>\n",
       "    </tr>\n",
       "    <tr>\n",
       "      <th>min</th>\n",
       "      <td>1.000000</td>\n",
       "    </tr>\n",
       "    <tr>\n",
       "      <th>25%</th>\n",
       "      <td>4.000000</td>\n",
       "    </tr>\n",
       "    <tr>\n",
       "      <th>50%</th>\n",
       "      <td>5.000000</td>\n",
       "    </tr>\n",
       "    <tr>\n",
       "      <th>75%</th>\n",
       "      <td>5.000000</td>\n",
       "    </tr>\n",
       "    <tr>\n",
       "      <th>max</th>\n",
       "      <td>5.000000</td>\n",
       "    </tr>\n",
       "  </tbody>\n",
       "</table>\n",
       "</div>"
      ],
      "text/plain": [
       "       review_score\n",
       "count  99224.000000\n",
       "mean       4.086421\n",
       "std        1.347579\n",
       "min        1.000000\n",
       "25%        4.000000\n",
       "50%        5.000000\n",
       "75%        5.000000\n",
       "max        5.000000"
      ]
     },
     "execution_count": 6,
     "metadata": {},
     "output_type": "execute_result"
    }
   ],
   "source": [
    "df.describe()"
   ]
  },
  {
   "cell_type": "code",
   "execution_count": 22,
   "id": "f8d5015e",
   "metadata": {},
   "outputs": [],
   "source": [
    "df['review_score'] = pd.Categorical(df.review_score)"
   ]
  },
  {
   "cell_type": "code",
   "execution_count": 23,
   "id": "b4712901",
   "metadata": {},
   "outputs": [
    {
     "data": {
      "text/plain": [
       "count     99224\n",
       "unique        5\n",
       "top           5\n",
       "freq      57328\n",
       "Name: review_score, dtype: int64"
      ]
     },
     "execution_count": 23,
     "metadata": {},
     "output_type": "execute_result"
    }
   ],
   "source": [
    "df['review_score'].describe()"
   ]
  },
  {
   "cell_type": "code",
   "execution_count": 21,
   "id": "3d2e8ed2",
   "metadata": {},
   "outputs": [
    {
     "data": {
      "text/plain": [
       "count    99224.000000\n",
       "mean         4.086421\n",
       "std          1.347579\n",
       "min          1.000000\n",
       "25%          4.000000\n",
       "50%          5.000000\n",
       "75%          5.000000\n",
       "max          5.000000\n",
       "Name: review_score, dtype: float64"
      ]
     },
     "execution_count": 21,
     "metadata": {},
     "output_type": "execute_result"
    }
   ],
   "source": [
    "df['review_score'].describe()"
   ]
  },
  {
   "cell_type": "code",
   "execution_count": 7,
   "id": "2f37222c",
   "metadata": {},
   "outputs": [
    {
     "data": {
      "text/plain": [
       "count         11568\n",
       "unique         4516\n",
       "top       Recomendo\n",
       "freq            423\n",
       "Name: review_comment_title, dtype: object"
      ]
     },
     "execution_count": 7,
     "metadata": {},
     "output_type": "execute_result"
    }
   ],
   "source": [
    "df['review_comment_title'].describe()"
   ]
  },
  {
   "cell_type": "code",
   "execution_count": 8,
   "id": "ebb2c5ed",
   "metadata": {},
   "outputs": [
    {
     "data": {
      "text/plain": [
       "count         40977\n",
       "unique        36155\n",
       "top       Muito bom\n",
       "freq            230\n",
       "Name: review_comment_message, dtype: object"
      ]
     },
     "execution_count": 8,
     "metadata": {},
     "output_type": "execute_result"
    }
   ],
   "source": [
    "df['review_comment_message'].describe()"
   ]
  },
  {
   "cell_type": "code",
   "execution_count": 16,
   "id": "2fa5981a",
   "metadata": {},
   "outputs": [
    {
     "data": {
      "text/plain": [
       "count    99224.000000\n",
       "mean         4.086421\n",
       "std          1.347579\n",
       "min          1.000000\n",
       "25%          4.000000\n",
       "50%          5.000000\n",
       "75%          5.000000\n",
       "max          5.000000\n",
       "Name: review_score, dtype: float64"
      ]
     },
     "execution_count": 16,
     "metadata": {},
     "output_type": "execute_result"
    }
   ],
   "source": [
    "df['review_score'].describe()"
   ]
  },
  {
   "cell_type": "code",
   "execution_count": 10,
   "id": "bcbc4a74",
   "metadata": {},
   "outputs": [
    {
     "data": {
      "text/plain": [
       "count                                99224\n",
       "unique                               98673\n",
       "top       c88b1d1b157a9999ce368f218a407141\n",
       "freq                                     3\n",
       "Name: order_id, dtype: object"
      ]
     },
     "execution_count": 10,
     "metadata": {},
     "output_type": "execute_result"
    }
   ],
   "source": [
    "df['order_id'].describe()"
   ]
  },
  {
   "cell_type": "code",
   "execution_count": 11,
   "id": "9b5865e9",
   "metadata": {},
   "outputs": [],
   "source": [
    "df['review_comment_title'] = df['review_comment_title'].fillna(df['review_comment_title'].mode()[0])"
   ]
  },
  {
   "cell_type": "code",
   "execution_count": 12,
   "id": "4314cb8f",
   "metadata": {},
   "outputs": [],
   "source": [
    "df['review_comment_message'] = df['review_comment_message'].fillna(df['review_comment_message'].mode()[0])"
   ]
  },
  {
   "cell_type": "code",
   "execution_count": 13,
   "id": "73a01bdf",
   "metadata": {},
   "outputs": [
    {
     "data": {
      "text/html": [
       "<div>\n",
       "<style scoped>\n",
       "    .dataframe tbody tr th:only-of-type {\n",
       "        vertical-align: middle;\n",
       "    }\n",
       "\n",
       "    .dataframe tbody tr th {\n",
       "        vertical-align: top;\n",
       "    }\n",
       "\n",
       "    .dataframe thead th {\n",
       "        text-align: right;\n",
       "    }\n",
       "</style>\n",
       "<table border=\"1\" class=\"dataframe\">\n",
       "  <thead>\n",
       "    <tr style=\"text-align: right;\">\n",
       "      <th></th>\n",
       "      <th>review_id</th>\n",
       "      <th>order_id</th>\n",
       "      <th>review_score</th>\n",
       "      <th>review_comment_title</th>\n",
       "      <th>review_comment_message</th>\n",
       "      <th>review_creation_date</th>\n",
       "      <th>review_answer_timestamp</th>\n",
       "    </tr>\n",
       "  </thead>\n",
       "  <tbody>\n",
       "    <tr>\n",
       "      <th>0</th>\n",
       "      <td>7bc2406110b926393aa56f80a40eba40</td>\n",
       "      <td>73fc7af87114b39712e6da79b0a377eb</td>\n",
       "      <td>4</td>\n",
       "      <td>Recomendo</td>\n",
       "      <td>Muito bom</td>\n",
       "      <td>18/1/2018 0:00</td>\n",
       "      <td>18/1/2018 21:46</td>\n",
       "    </tr>\n",
       "    <tr>\n",
       "      <th>1</th>\n",
       "      <td>80e641a11e56f04c1ad469d5645fdfde</td>\n",
       "      <td>a548910a1c6147796b98fdf73dbeba33</td>\n",
       "      <td>5</td>\n",
       "      <td>Recomendo</td>\n",
       "      <td>Muito bom</td>\n",
       "      <td>10/3/2018 0:00</td>\n",
       "      <td>11/3/2018 3:05</td>\n",
       "    </tr>\n",
       "    <tr>\n",
       "      <th>2</th>\n",
       "      <td>228ce5500dc1d8e020d8d1322874b6f0</td>\n",
       "      <td>f9e4b658b201a9f2ecdecbb34bed034b</td>\n",
       "      <td>5</td>\n",
       "      <td>Recomendo</td>\n",
       "      <td>Muito bom</td>\n",
       "      <td>17/2/2018 0:00</td>\n",
       "      <td>18/2/2018 14:36</td>\n",
       "    </tr>\n",
       "    <tr>\n",
       "      <th>3</th>\n",
       "      <td>e64fb393e7b32834bb789ff8bb30750e</td>\n",
       "      <td>658677c97b385a9be170737859d3511b</td>\n",
       "      <td>5</td>\n",
       "      <td>Recomendo</td>\n",
       "      <td>Recebi bem antes do prazo estipulado.</td>\n",
       "      <td>21/4/2017 0:00</td>\n",
       "      <td>21/4/2017 22:02</td>\n",
       "    </tr>\n",
       "    <tr>\n",
       "      <th>4</th>\n",
       "      <td>f7c4243c7fe1938f181bec41a392bdeb</td>\n",
       "      <td>8e6bfb81e283fa7e4f11123a3fb894f1</td>\n",
       "      <td>5</td>\n",
       "      <td>Recomendo</td>\n",
       "      <td>Parabéns lojas lannister adorei comprar pela I...</td>\n",
       "      <td>1/3/2018 0:00</td>\n",
       "      <td>2/3/2018 10:26</td>\n",
       "    </tr>\n",
       "    <tr>\n",
       "      <th>...</th>\n",
       "      <td>...</td>\n",
       "      <td>...</td>\n",
       "      <td>...</td>\n",
       "      <td>...</td>\n",
       "      <td>...</td>\n",
       "      <td>...</td>\n",
       "      <td>...</td>\n",
       "    </tr>\n",
       "    <tr>\n",
       "      <th>99219</th>\n",
       "      <td>574ed12dd733e5fa530cfd4bbf39d7c9</td>\n",
       "      <td>2a8c23fee101d4d5662fa670396eb8da</td>\n",
       "      <td>5</td>\n",
       "      <td>Recomendo</td>\n",
       "      <td>Muito bom</td>\n",
       "      <td>7/7/2018 0:00</td>\n",
       "      <td>14/7/2018 17:18</td>\n",
       "    </tr>\n",
       "    <tr>\n",
       "      <th>99220</th>\n",
       "      <td>f3897127253a9592a73be9bdfdf4ed7a</td>\n",
       "      <td>22ec9f0669f784db00fa86d035cf8602</td>\n",
       "      <td>5</td>\n",
       "      <td>Recomendo</td>\n",
       "      <td>Muito bom</td>\n",
       "      <td>9/12/2017 0:00</td>\n",
       "      <td>11/12/2017 20:06</td>\n",
       "    </tr>\n",
       "    <tr>\n",
       "      <th>99221</th>\n",
       "      <td>b3de70c89b1510c4cd3d0649fd302472</td>\n",
       "      <td>55d4004744368f5571d1f590031933e4</td>\n",
       "      <td>5</td>\n",
       "      <td>Recomendo</td>\n",
       "      <td>Excelente mochila, entrega super rápida. Super...</td>\n",
       "      <td>22/3/2018 0:00</td>\n",
       "      <td>23/3/2018 9:10</td>\n",
       "    </tr>\n",
       "    <tr>\n",
       "      <th>99222</th>\n",
       "      <td>1adeb9d84d72fe4e337617733eb85149</td>\n",
       "      <td>7725825d039fc1f0ceb7635e3f7d9206</td>\n",
       "      <td>4</td>\n",
       "      <td>Recomendo</td>\n",
       "      <td>Muito bom</td>\n",
       "      <td>1/7/2018 0:00</td>\n",
       "      <td>2/7/2018 12:59</td>\n",
       "    </tr>\n",
       "    <tr>\n",
       "      <th>99223</th>\n",
       "      <td>efe49f1d6f951dd88b51e6ccd4cc548f</td>\n",
       "      <td>90531360ecb1eec2a1fbb265a0db0508</td>\n",
       "      <td>1</td>\n",
       "      <td>Recomendo</td>\n",
       "      <td>meu produto chegou e ja tenho que devolver, po...</td>\n",
       "      <td>3/7/2017 0:00</td>\n",
       "      <td>3/7/2017 21:01</td>\n",
       "    </tr>\n",
       "  </tbody>\n",
       "</table>\n",
       "<p>99224 rows × 7 columns</p>\n",
       "</div>"
      ],
      "text/plain": [
       "                              review_id                          order_id  \\\n",
       "0      7bc2406110b926393aa56f80a40eba40  73fc7af87114b39712e6da79b0a377eb   \n",
       "1      80e641a11e56f04c1ad469d5645fdfde  a548910a1c6147796b98fdf73dbeba33   \n",
       "2      228ce5500dc1d8e020d8d1322874b6f0  f9e4b658b201a9f2ecdecbb34bed034b   \n",
       "3      e64fb393e7b32834bb789ff8bb30750e  658677c97b385a9be170737859d3511b   \n",
       "4      f7c4243c7fe1938f181bec41a392bdeb  8e6bfb81e283fa7e4f11123a3fb894f1   \n",
       "...                                 ...                               ...   \n",
       "99219  574ed12dd733e5fa530cfd4bbf39d7c9  2a8c23fee101d4d5662fa670396eb8da   \n",
       "99220  f3897127253a9592a73be9bdfdf4ed7a  22ec9f0669f784db00fa86d035cf8602   \n",
       "99221  b3de70c89b1510c4cd3d0649fd302472  55d4004744368f5571d1f590031933e4   \n",
       "99222  1adeb9d84d72fe4e337617733eb85149  7725825d039fc1f0ceb7635e3f7d9206   \n",
       "99223  efe49f1d6f951dd88b51e6ccd4cc548f  90531360ecb1eec2a1fbb265a0db0508   \n",
       "\n",
       "       review_score review_comment_title  \\\n",
       "0                 4            Recomendo   \n",
       "1                 5            Recomendo   \n",
       "2                 5            Recomendo   \n",
       "3                 5            Recomendo   \n",
       "4                 5            Recomendo   \n",
       "...             ...                  ...   \n",
       "99219             5            Recomendo   \n",
       "99220             5            Recomendo   \n",
       "99221             5            Recomendo   \n",
       "99222             4            Recomendo   \n",
       "99223             1            Recomendo   \n",
       "\n",
       "                                  review_comment_message review_creation_date  \\\n",
       "0                                              Muito bom       18/1/2018 0:00   \n",
       "1                                              Muito bom       10/3/2018 0:00   \n",
       "2                                              Muito bom       17/2/2018 0:00   \n",
       "3                  Recebi bem antes do prazo estipulado.       21/4/2017 0:00   \n",
       "4      Parabéns lojas lannister adorei comprar pela I...        1/3/2018 0:00   \n",
       "...                                                  ...                  ...   \n",
       "99219                                          Muito bom        7/7/2018 0:00   \n",
       "99220                                          Muito bom       9/12/2017 0:00   \n",
       "99221  Excelente mochila, entrega super rápida. Super...       22/3/2018 0:00   \n",
       "99222                                          Muito bom        1/7/2018 0:00   \n",
       "99223  meu produto chegou e ja tenho que devolver, po...        3/7/2017 0:00   \n",
       "\n",
       "      review_answer_timestamp  \n",
       "0             18/1/2018 21:46  \n",
       "1              11/3/2018 3:05  \n",
       "2             18/2/2018 14:36  \n",
       "3             21/4/2017 22:02  \n",
       "4              2/3/2018 10:26  \n",
       "...                       ...  \n",
       "99219         14/7/2018 17:18  \n",
       "99220        11/12/2017 20:06  \n",
       "99221          23/3/2018 9:10  \n",
       "99222          2/7/2018 12:59  \n",
       "99223          3/7/2017 21:01  \n",
       "\n",
       "[99224 rows x 7 columns]"
      ]
     },
     "execution_count": 13,
     "metadata": {},
     "output_type": "execute_result"
    }
   ],
   "source": [
    "df"
   ]
  },
  {
   "cell_type": "code",
   "execution_count": 24,
   "id": "850a3eed",
   "metadata": {},
   "outputs": [
    {
     "data": {
      "text/plain": [
       "review_id                  0\n",
       "order_id                   0\n",
       "review_score               0\n",
       "review_comment_title       0\n",
       "review_comment_message     0\n",
       "review_creation_date       0\n",
       "review_answer_timestamp    0\n",
       "dtype: int64"
      ]
     },
     "execution_count": 24,
     "metadata": {},
     "output_type": "execute_result"
    }
   ],
   "source": [
    "df.isnull().sum()"
   ]
  },
  {
   "cell_type": "code",
   "execution_count": 25,
   "id": "dbded35a",
   "metadata": {},
   "outputs": [
    {
     "data": {
      "text/html": [
       "<div>\n",
       "<style scoped>\n",
       "    .dataframe tbody tr th:only-of-type {\n",
       "        vertical-align: middle;\n",
       "    }\n",
       "\n",
       "    .dataframe tbody tr th {\n",
       "        vertical-align: top;\n",
       "    }\n",
       "\n",
       "    .dataframe thead th {\n",
       "        text-align: right;\n",
       "    }\n",
       "</style>\n",
       "<table border=\"1\" class=\"dataframe\">\n",
       "  <thead>\n",
       "    <tr style=\"text-align: right;\">\n",
       "      <th></th>\n",
       "      <th>review_id</th>\n",
       "      <th>order_id</th>\n",
       "      <th>review_score</th>\n",
       "      <th>review_comment_title</th>\n",
       "      <th>review_comment_message</th>\n",
       "      <th>review_creation_date</th>\n",
       "      <th>review_answer_timestamp</th>\n",
       "    </tr>\n",
       "  </thead>\n",
       "  <tbody>\n",
       "    <tr>\n",
       "      <th>0</th>\n",
       "      <td>7bc2406110b926393aa56f80a40eba40</td>\n",
       "      <td>73fc7af87114b39712e6da79b0a377eb</td>\n",
       "      <td>4</td>\n",
       "      <td>Recomendo</td>\n",
       "      <td>Muito bom</td>\n",
       "      <td>18/1/2018 0:00</td>\n",
       "      <td>18/1/2018 21:46</td>\n",
       "    </tr>\n",
       "    <tr>\n",
       "      <th>1</th>\n",
       "      <td>80e641a11e56f04c1ad469d5645fdfde</td>\n",
       "      <td>a548910a1c6147796b98fdf73dbeba33</td>\n",
       "      <td>5</td>\n",
       "      <td>Recomendo</td>\n",
       "      <td>Muito bom</td>\n",
       "      <td>10/3/2018 0:00</td>\n",
       "      <td>11/3/2018 3:05</td>\n",
       "    </tr>\n",
       "    <tr>\n",
       "      <th>2</th>\n",
       "      <td>228ce5500dc1d8e020d8d1322874b6f0</td>\n",
       "      <td>f9e4b658b201a9f2ecdecbb34bed034b</td>\n",
       "      <td>5</td>\n",
       "      <td>Recomendo</td>\n",
       "      <td>Muito bom</td>\n",
       "      <td>17/2/2018 0:00</td>\n",
       "      <td>18/2/2018 14:36</td>\n",
       "    </tr>\n",
       "    <tr>\n",
       "      <th>3</th>\n",
       "      <td>e64fb393e7b32834bb789ff8bb30750e</td>\n",
       "      <td>658677c97b385a9be170737859d3511b</td>\n",
       "      <td>5</td>\n",
       "      <td>Recomendo</td>\n",
       "      <td>Recebi bem antes do prazo estipulado.</td>\n",
       "      <td>21/4/2017 0:00</td>\n",
       "      <td>21/4/2017 22:02</td>\n",
       "    </tr>\n",
       "    <tr>\n",
       "      <th>4</th>\n",
       "      <td>f7c4243c7fe1938f181bec41a392bdeb</td>\n",
       "      <td>8e6bfb81e283fa7e4f11123a3fb894f1</td>\n",
       "      <td>5</td>\n",
       "      <td>Recomendo</td>\n",
       "      <td>Parabéns lojas lannister adorei comprar pela I...</td>\n",
       "      <td>1/3/2018 0:00</td>\n",
       "      <td>2/3/2018 10:26</td>\n",
       "    </tr>\n",
       "  </tbody>\n",
       "</table>\n",
       "</div>"
      ],
      "text/plain": [
       "                          review_id                          order_id  \\\n",
       "0  7bc2406110b926393aa56f80a40eba40  73fc7af87114b39712e6da79b0a377eb   \n",
       "1  80e641a11e56f04c1ad469d5645fdfde  a548910a1c6147796b98fdf73dbeba33   \n",
       "2  228ce5500dc1d8e020d8d1322874b6f0  f9e4b658b201a9f2ecdecbb34bed034b   \n",
       "3  e64fb393e7b32834bb789ff8bb30750e  658677c97b385a9be170737859d3511b   \n",
       "4  f7c4243c7fe1938f181bec41a392bdeb  8e6bfb81e283fa7e4f11123a3fb894f1   \n",
       "\n",
       "  review_score review_comment_title  \\\n",
       "0            4            Recomendo   \n",
       "1            5            Recomendo   \n",
       "2            5            Recomendo   \n",
       "3            5            Recomendo   \n",
       "4            5            Recomendo   \n",
       "\n",
       "                              review_comment_message review_creation_date  \\\n",
       "0                                          Muito bom       18/1/2018 0:00   \n",
       "1                                          Muito bom       10/3/2018 0:00   \n",
       "2                                          Muito bom       17/2/2018 0:00   \n",
       "3              Recebi bem antes do prazo estipulado.       21/4/2017 0:00   \n",
       "4  Parabéns lojas lannister adorei comprar pela I...        1/3/2018 0:00   \n",
       "\n",
       "  review_answer_timestamp  \n",
       "0         18/1/2018 21:46  \n",
       "1          11/3/2018 3:05  \n",
       "2         18/2/2018 14:36  \n",
       "3         21/4/2017 22:02  \n",
       "4          2/3/2018 10:26  "
      ]
     },
     "execution_count": 25,
     "metadata": {},
     "output_type": "execute_result"
    }
   ],
   "source": [
    "df.head()"
   ]
  },
  {
   "cell_type": "code",
   "execution_count": 27,
   "id": "f55e3c6c",
   "metadata": {},
   "outputs": [
    {
     "data": {
      "text/plain": [
       "review_id                    object\n",
       "order_id                     object\n",
       "review_score               category\n",
       "review_comment_title         object\n",
       "review_comment_message       object\n",
       "review_creation_date         object\n",
       "review_answer_timestamp      object\n",
       "dtype: object"
      ]
     },
     "execution_count": 27,
     "metadata": {},
     "output_type": "execute_result"
    }
   ],
   "source": [
    "df.dtypes"
   ]
  }
 ],
 "metadata": {
  "kernelspec": {
   "display_name": "Python 3 (ipykernel)",
   "language": "python",
   "name": "python3"
  },
  "language_info": {
   "codemirror_mode": {
    "name": "ipython",
    "version": 3
   },
   "file_extension": ".py",
   "mimetype": "text/x-python",
   "name": "python",
   "nbconvert_exporter": "python",
   "pygments_lexer": "ipython3",
   "version": "3.9.7"
  }
 },
 "nbformat": 4,
 "nbformat_minor": 5
}
